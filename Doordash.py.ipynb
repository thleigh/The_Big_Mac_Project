{
 "cells": [
  {
   "cell_type": "code",
   "execution_count": 1,
   "metadata": {},
   "outputs": [],
   "source": [
    "from selenium import webdriver"
   ]
  },
  {
   "cell_type": "code",
   "execution_count": 6,
   "metadata": {},
   "outputs": [],
   "source": [
    "import datetime, re, requests, io, time, random, string"
   ]
  },
  {
   "cell_type": "code",
   "execution_count": 22,
   "metadata": {},
   "outputs": [],
   "source": [
    "driver = webdriver.Chrome('/Users/tannerhleigh/downloads/chromedriver')"
   ]
  },
  {
   "cell_type": "code",
   "execution_count": 23,
   "metadata": {},
   "outputs": [
    {
     "name": "stdout",
     "output_type": "stream",
     "text": [
      "on the Doordash Home Page!\n"
     ]
    }
   ],
   "source": [
    "try: \n",
    "    driver.get('https://www.doordash.com/en-US')\n",
    "    time.sleep(5)\n",
    "    print('on the Doordash Home Page!')\n",
    "except: \n",
    "    print('Could not find Doordash Page')\n",
    "    driver.close()"
   ]
  },
  {
   "cell_type": "code",
   "execution_count": 24,
   "metadata": {},
   "outputs": [],
   "source": [
    "try: \n",
    "    address_link = driver.find_element_by_class_name('sc-jkPxnQ')\n",
    "    address_button = driver.find_element_by_class_name('sc-juQqkt')\n",
    "except: \n",
    "    print('Could not find Doordash Input Form')\n",
    "    driver.close()"
   ]
  },
  {
   "cell_type": "code",
   "execution_count": 25,
   "metadata": {},
   "outputs": [
    {
     "name": "stdout",
     "output_type": "stream",
     "text": [
      "Going to Doordash Restaurant page\n"
     ]
    }
   ],
   "source": [
    "try: \n",
    "    address_link.send_keys('Santa Monica')\n",
    "    time.sleep(0.5)\n",
    "    address_button.click()\n",
    "    time.sleep(5)\n",
    "    print('Going to Doordash Restaurant page')\n",
    "except: \n",
    "    print('Could not imput correct data')\n",
    "    driver.close()"
   ]
  },
  {
   "cell_type": "code",
   "execution_count": null,
   "metadata": {},
   "outputs": [],
   "source": []
  }
 ],
 "metadata": {
  "kernelspec": {
   "display_name": "Python 3",
   "language": "python",
   "name": "python3"
  },
  "language_info": {
   "codemirror_mode": {
    "name": "ipython",
    "version": 3
   },
   "file_extension": ".py",
   "mimetype": "text/x-python",
   "name": "python",
   "nbconvert_exporter": "python",
   "pygments_lexer": "ipython3",
   "version": "3.8.5"
  }
 },
 "nbformat": 4,
 "nbformat_minor": 4
}
