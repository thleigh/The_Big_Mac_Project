{
 "cells": [
  {
   "cell_type": "code",
   "execution_count": 26,
   "metadata": {},
   "outputs": [],
   "source": [
    "from selenium import webdriver"
   ]
  },
  {
   "cell_type": "code",
   "execution_count": 27,
   "metadata": {},
   "outputs": [],
   "source": [
    "import datetime, re, requests, io, time, random, string"
   ]
  },
  {
   "cell_type": "code",
   "execution_count": 53,
   "metadata": {},
   "outputs": [],
   "source": [
    "driver = webdriver.Chrome('/Users/tannerhleigh/downloads/chromedriver')"
   ]
  },
  {
   "cell_type": "code",
   "execution_count": 54,
   "metadata": {},
   "outputs": [
    {
     "name": "stdout",
     "output_type": "stream",
     "text": [
      "on the Doordash Home Page!\n"
     ]
    }
   ],
   "source": [
    "try: \n",
    "    driver.get('https://www.doordash.com/en-US')\n",
    "    time.sleep(5)\n",
    "    print('on the Doordash Home Page!')\n",
    "except: \n",
    "    print('Could not find Doordash Page')\n",
    "    driver.close()"
   ]
  },
  {
   "cell_type": "code",
   "execution_count": 55,
   "metadata": {},
   "outputs": [
    {
     "name": "stdout",
     "output_type": "stream",
     "text": [
      "Found input and button\n"
     ]
    }
   ],
   "source": [
    "try: \n",
    "    address_link = driver.find_element_by_class_name('sc-bkCOcH')\n",
    "    address_button = driver.find_element_by_class_name('sc-ekQYnd')\n",
    "    print('Found input and button')\n",
    "except: \n",
    "    print('Could not find Doordash Input Form')"
   ]
  },
  {
   "cell_type": "code",
   "execution_count": 56,
   "metadata": {},
   "outputs": [
    {
     "name": "stdout",
     "output_type": "stream",
     "text": [
      "Going to Doordash Restaurant page\n"
     ]
    }
   ],
   "source": [
    "try: \n",
    "    address_link.send_keys('Santa Monica')\n",
    "    time.sleep(0.5)\n",
    "    address_button.click()\n",
    "    time.sleep(5)\n",
    "    print('Going to Doordash Restaurant page')\n",
    "except: \n",
    "    print('Could not imput correct data')\n",
    "    driver.close()"
   ]
  },
  {
   "cell_type": "code",
   "execution_count": 57,
   "metadata": {},
   "outputs": [],
   "source": [
    "try:\n",
    "    restaurant_link = driver.find_element_by_class_name('sc-bkCOcH')\n",
    "    restaurant_link.send_keys('Mcdonalds')\n",
    "    time.sleep(3)\n",
    "except:\n",
    "    print(\"Restaurant Link and Button Not Found on doordash\")"
   ]
  },
  {
   "cell_type": "code",
   "execution_count": 58,
   "metadata": {},
   "outputs": [
    {
     "name": "stdout",
     "output_type": "stream",
     "text": [
      "on the Mcdonalds page!\n"
     ]
    }
   ],
   "source": [
    "try:\n",
    "    # Finds the popup hover once there is data inserted into the input and clicks that hover\n",
    "    restaurant_link_inner = driver.find_element_by_class_name('sc-bHwgHz')\n",
    "    restaurant_link_inner.click()\n",
    "    time.sleep(3)\n",
    "    print('on the Mcdonalds page!')\n",
    "except:\n",
    "    print('Could not find dropdown button')"
   ]
  },
  {
   "cell_type": "code",
   "execution_count": 62,
   "metadata": {},
   "outputs": [
    {
     "name": "stdout",
     "output_type": "stream",
     "text": [
      "['$8.99']\n"
     ]
    }
   ],
   "source": [
    "mcdonalds_prices = []\n",
    "try:\n",
    "    prices = driver.find_elements_by_class_name('eEdxFA')\n",
    "    for big_mac in prices:\n",
    "        price = big_mac.text\n",
    "        big_mac_price_parsed=price.split('\\n')\n",
    "        mcdonalds_prices.append(big_mac_price_parsed)\n",
    "    big_mac_price = mcdonalds_prices[1]    \n",
    "    print()\n",
    "    print(big_mac_price)\n",
    "except:\n",
    "    print('Could not find the Big Mac Price')"
   ]
  },
  {
   "cell_type": "code",
   "execution_count": null,
   "metadata": {},
   "outputs": [],
   "source": []
  }
 ],
 "metadata": {
  "kernelspec": {
   "display_name": "Python 3",
   "language": "python",
   "name": "python3"
  },
  "language_info": {
   "codemirror_mode": {
    "name": "ipython",
    "version": 3
   },
   "file_extension": ".py",
   "mimetype": "text/x-python",
   "name": "python",
   "nbconvert_exporter": "python",
   "pygments_lexer": "ipython3",
   "version": "3.8.5"
  }
 },
 "nbformat": 4,
 "nbformat_minor": 4
}
